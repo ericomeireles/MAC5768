{
 "cells": [
  {
   "cell_type": "code",
   "execution_count": null,
   "metadata": {},
   "outputs": [],
   "source": []
  },
  {
   "cell_type": "markdown",
   "metadata": {},
   "source": [
    "### Redimensiona as fotos originais "
   ]
  },
  {
   "cell_type": "markdown",
   "metadata": {},
   "source": [
    "##### Esse código é apenas utilizado para redimensionar as fotos originais para o tamanho 600 x 800\n",
    "\n",
    "Foi criado um gitignore para que não subisse todas as imagens originais\n"
   ]
  },
  {
   "cell_type": "code",
   "execution_count": 3,
   "metadata": {},
   "outputs": [],
   "source": [
    "## Importa bibliotecas necessárias \n",
    "import matplotlib.image as mpimg\n",
    "import matplotlib.pyplot as plt\n",
    "import pandas as pd\n",
    "import os\n"
   ]
  },
  {
   "cell_type": "code",
   "execution_count": 4,
   "metadata": {},
   "outputs": [
    {
     "name": "stdout",
     "output_type": "stream",
     "text": [
      "   Linhas  Colunas\n",
      "0    1200     1599\n",
      "1    1200     1599\n",
      "2    1599     1200\n",
      "3     970     1296\n",
      "4    1599     1200\n",
      "5     970     1296\n",
      "6    1200     1599\n",
      "7     970     1296\n",
      "8    1200     1599\n",
      "9     970     1296\n"
     ]
    }
   ],
   "source": [
    "def get_image_resolutions(path):\n",
    "\n",
    "    ## pega a resolução das imagens no diretório de interesse (imagens originais)\n",
    "    resolutions = []\n",
    "    for filename in os.listdir(path):\n",
    "        if filename.lower().endswith('.jpeg'):  \n",
    "            image_path = os.path.join(path, filename)\n",
    "            image = plt.imread(image_path)\n",
    "            resolutions.append(image.shape[:2])  # (linhas, colunas)\n",
    "    return pd.DataFrame(resolutions, columns=['Linhas', 'Colunas'])\n",
    "\n",
    "# printa essa resolução\n",
    "resolucoes_df = get_image_resolutions(\"../data/\")\n",
    "print(resolucoes_df)"
   ]
  },
  {
   "cell_type": "code",
   "execution_count": 13,
   "metadata": {},
   "outputs": [
    {
     "name": "stdout",
     "output_type": "stream",
     "text": [
      "Imagens redimensionadas e salvas com sucesso!\n"
     ]
    }
   ],
   "source": [
    "import os\n",
    "from PIL import Image, ImageOps\n",
    "\n",
    "# Caminho para o diretório das imagens originais\n",
    "caminho_imagens_originais = \"../data/\"\n",
    "\n",
    "# Caminho para o diretório das imagens redimensionadas\n",
    "caminho_imagens_redimensionadas = \"../data_resized/\"\n",
    "\n",
    "# Criando o diretório para as imagens redimensionadas se ele não existir\n",
    "if not os.path.exists(caminho_imagens_redimensionadas):\n",
    "    os.makedirs(caminho_imagens_redimensionadas)\n",
    "\n",
    "# Lista de nomes de arquivos das imagens originais\n",
    "img_names = os.listdir(caminho_imagens_originais)\n",
    "\n",
    "# Redimensionando e salvando as imagens\n",
    "for img_name in img_names:\n",
    "    # Caminho completo para a imagem original e redimensionada\n",
    "    img_path_original = os.path.join(caminho_imagens_originais, img_name)\n",
    "    img_path_resized = os.path.join(caminho_imagens_redimensionadas, img_name)\n",
    "    \n",
    "    # Carregando a imagem original\n",
    "    if os.path.exists(img_path_original):\n",
    "        img = Image.open(img_path_original)\n",
    "        \n",
    "        # Verificando a orientação da imagem\n",
    "        if img.size[0] < img.size[1]:  # Vertical (comprida)\n",
    "            img = img.rotate(90, expand=True)\n",
    "        \n",
    "        # Redimensionando mantendo a proporção para largura de 800 pixels\n",
    "        base_width = 800\n",
    "        w_percent = (base_width / float(img.size[0]))\n",
    "        h_size = int((float(img.size[1]) * float(w_percent)))\n",
    "        \n",
    "        img_resized = img.resize((base_width, h_size))\n",
    "        \n",
    "        # Preenchendo com cor de fundo se a altura não for 600 pixels\n",
    "        if img_resized.size[1] < 600:\n",
    "            img_resized = ImageOps.pad(img_resized, (base_width, 600), color=\"white\")\n",
    "        \n",
    "        # Salvando a imagem redimensionada\n",
    "        img_resized.save(img_path_resized)\n",
    "\n",
    "print(\"Imagens redimensionadas e salvas com sucesso!\")"
   ]
  },
  {
   "cell_type": "code",
   "execution_count": 14,
   "metadata": {},
   "outputs": [
    {
     "name": "stdout",
     "output_type": "stream",
     "text": [
      "   Linhas  Colunas\n",
      "0     600      800\n",
      "1     600      800\n",
      "2     600      800\n",
      "3     600      800\n",
      "4     600      800\n",
      "5     600      800\n",
      "6     600      800\n",
      "7     600      800\n",
      "8     600      800\n",
      "9     600      800\n"
     ]
    }
   ],
   "source": [
    "def get_image_resolutions(path):\n",
    "\n",
    "    ## pega a resolução das imagens no diretório de interesse\n",
    "    resolutions = []\n",
    "    for filename in os.listdir(path):\n",
    "        if filename.lower().endswith('.jpeg'):  \n",
    "            image_path = os.path.join(path, filename)\n",
    "            image = plt.imread(image_path)\n",
    "            resolutions.append(image.shape[:2])  # (linhas, colunas)\n",
    "    return pd.DataFrame(resolutions, columns=['Linhas', 'Colunas'])\n",
    "\n",
    "# printa a resolução das imagens redimensionadas\n",
    "resolucoes_df = get_image_resolutions(\"../data_resized/\")\n",
    "print(resolucoes_df)"
   ]
  },
  {
   "cell_type": "code",
   "execution_count": null,
   "metadata": {},
   "outputs": [],
   "source": []
  }
 ],
 "metadata": {
  "kernelspec": {
   "display_name": "Python 3",
   "language": "python",
   "name": "python3"
  },
  "language_info": {
   "codemirror_mode": {
    "name": "ipython",
    "version": 3
   },
   "file_extension": ".py",
   "mimetype": "text/x-python",
   "name": "python",
   "nbconvert_exporter": "python",
   "pygments_lexer": "ipython3",
   "version": "3.9.7"
  }
 },
 "nbformat": 4,
 "nbformat_minor": 2
}
